{
 "cells": [
  {
   "cell_type": "code",
   "execution_count": 116,
   "id": "eee18789",
   "metadata": {},
   "outputs": [],
   "source": [
    "import os\n",
    "import sys\n",
    "import time\n",
    "import json\n",
    "import numpy as np\n",
    "import pandas as pd "
   ]
  },
  {
   "cell_type": "code",
   "execution_count": 108,
   "id": "56a115af",
   "metadata": {},
   "outputs": [
    {
     "name": "stdout",
     "output_type": "stream",
     "text": [
      "Python 3.9.16\n"
     ]
    }
   ],
   "source": [
    "!python --version"
   ]
  },
  {
   "cell_type": "code",
   "execution_count": 19,
   "id": "852bd3cb",
   "metadata": {},
   "outputs": [],
   "source": [
    "# !pip install snowflake-connector-python==3.0.0 \n",
    "\n",
    "# !pip install \"snowflake-connector-python[pandas]\""
   ]
  },
  {
   "cell_type": "code",
   "execution_count": 110,
   "id": "8074c0cb",
   "metadata": {},
   "outputs": [],
   "source": [
    "import json\n",
    "with open('snow_dw_credential.json','r') as cred_file :\n",
    "    cred_config_file = json.load(cred_file)"
   ]
  },
  {
   "cell_type": "code",
   "execution_count": 77,
   "id": "46cfaade",
   "metadata": {},
   "outputs": [],
   "source": [
    "# cred_config_file['secure_snowflake_authenticator']"
   ]
  },
  {
   "cell_type": "code",
   "execution_count": 111,
   "id": "f1b3d760",
   "metadata": {},
   "outputs": [],
   "source": [
    "import snowflake.connector"
   ]
  },
  {
   "cell_type": "code",
   "execution_count": 59,
   "id": "57eb7c5f",
   "metadata": {},
   "outputs": [],
   "source": [
    "connection_object = snowflake.connector.connect(\n",
    "            host        =  cred_config_file['host_name'],\n",
    "            user        =  cred_config_file['dw_username'],\n",
    "            password    =  cred_config_file['dw_password'],\n",
    "            account     =  cred_config_file['dw_account'],\n",
    "            warehouse   =  cred_config_file['warehouse_name'],\n",
    "            database    =  cred_config_file['database_name'],\n",
    "            schema      =  cred_config_file['schema_name'],\n",
    "            port        =  cred_config_file['port_number'],\n",
    "            role        =  cred_config_file['role_name']\n",
    ")\n",
    "\n",
    "\n",
    "# warehouse = 'sbcz'\n",
    "# database  = 'mydb'\n",
    "# schema    = 'myschema'\n",
    "# account_identifier[account_name].snowflakecomputing.com"
   ]
  },
  {
   "cell_type": "code",
   "execution_count": 112,
   "id": "3a7f9977",
   "metadata": {},
   "outputs": [],
   "source": [
    "connection_object_test = snowflake.connector.connect(**cred_config_file['secure_snowflake_authenticator'])"
   ]
  },
  {
   "cell_type": "code",
   "execution_count": 113,
   "id": "81d07bcb",
   "metadata": {},
   "outputs": [],
   "source": [
    "cur = connection_object_test.cursor()\n",
    "\n",
    "try:\n",
    "    cur.execute(\"select * from information_schema.packages where language = 'python' \") # db.schema.table\n",
    "    one_row = cur.fetch_pandas_all()\n",
    "    # print(type(one_row))\n",
    "    # print(one_row)\n",
    "finally:\n",
    "    cur.close()\n",
    "#conn.close()\n",
    "\n"
   ]
  },
  {
   "cell_type": "code",
   "execution_count": 115,
   "id": "da7dd61a",
   "metadata": {},
   "outputs": [
    {
     "name": "stderr",
     "output_type": "stream",
     "text": [
      "'one_row' is not recognized as an internal or external command,\n",
      "operable program or batch file.\n"
     ]
    }
   ],
   "source": [
    "!one_row "
   ]
  },
  {
   "cell_type": "code",
   "execution_count": 107,
   "id": "92873a82",
   "metadata": {},
   "outputs": [],
   "source": [
    "import os"
   ]
  },
  {
   "cell_type": "code",
   "execution_count": 105,
   "id": "301e0bed",
   "metadata": {},
   "outputs": [],
   "source": [
    "# os.environ['HOME']"
   ]
  },
  {
   "cell_type": "code",
   "execution_count": 104,
   "id": "79cc70d9",
   "metadata": {},
   "outputs": [],
   "source": [
    "# os.environ['snow_flake_cred'] = 'C:\\\\Users\\\\amit.a\\\\cf_pjm_project\\\\snow_dw_credential.json'"
   ]
  },
  {
   "cell_type": "code",
   "execution_count": 103,
   "id": "b4200bc5",
   "metadata": {},
   "outputs": [],
   "source": [
    "# os.getenv['secure_snowflake_authenticator']         #[\"secure_snowflake_authenticator\"]"
   ]
  },
  {
   "cell_type": "code",
   "execution_count": 102,
   "id": "0c1554e7",
   "metadata": {},
   "outputs": [],
   "source": [
    "# os.environ"
   ]
  },
  {
   "cell_type": "code",
   "execution_count": null,
   "id": "79d079bd",
   "metadata": {},
   "outputs": [],
   "source": []
  }
 ],
 "metadata": {
  "kernelspec": {
   "display_name": "Python 3 (ipykernel)",
   "language": "python",
   "name": "python3"
  },
  "language_info": {
   "codemirror_mode": {
    "name": "ipython",
    "version": 3
   },
   "file_extension": ".py",
   "mimetype": "text/x-python",
   "name": "python",
   "nbconvert_exporter": "python",
   "pygments_lexer": "ipython3",
   "version": "3.9.16"
  }
 },
 "nbformat": 4,
 "nbformat_minor": 5
}
